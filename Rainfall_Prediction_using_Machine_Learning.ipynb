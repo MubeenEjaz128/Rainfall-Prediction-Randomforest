{
 "cells": [
  {
   "cell_type": "markdown",
   "metadata": {},
   "source": [
    "1. Import Libraries"
   ]
  },
  {
   "cell_type": "code",
   "execution_count": 1,
   "metadata": {},
   "outputs": [],
   "source": [
    "import numpy as np\n",
    "import pandas as pd\n",
    "import matplotlib.pyplot as plt\n",
    "import seaborn as sns\n",
    "from sklearn.utils import resample\n",
    "from sklearn.model_selection import train_test_split, GridSearchCV, cross_val_score\n",
    "from sklearn.ensemble import RandomForestClassifier\n",
    "from sklearn.metrics import classification_report, confusion_matrix, accuracy_score\n",
    "import pickle\n"
   ]
  },
  {
   "cell_type": "markdown",
   "metadata": {},
   "source": [
    "2. Load and Preprocess Data"
   ]
  },
  {
   "cell_type": "code",
   "execution_count": 2,
   "metadata": {},
   "outputs": [
    {
     "name": "stdout",
     "output_type": "stream",
     "text": [
      "Data Info:\n",
      "<class 'pandas.core.frame.DataFrame'>\n",
      "RangeIndex: 366 entries, 0 to 365\n",
      "Data columns (total 8 columns):\n",
      " #   Column         Non-Null Count  Dtype  \n",
      "---  ------         --------------  -----  \n",
      " 0   pressure       366 non-null    float64\n",
      " 1   dewpoint       366 non-null    float64\n",
      " 2   humidity       366 non-null    int64  \n",
      " 3   cloud          366 non-null    int64  \n",
      " 4   rainfall       366 non-null    int64  \n",
      " 5   sunshine       366 non-null    float64\n",
      " 6   winddirection  366 non-null    float64\n",
      " 7   windspeed      366 non-null    float64\n",
      "dtypes: float64(5), int64(3)\n",
      "memory usage: 23.0 KB\n"
     ]
    }
   ],
   "source": [
    "# Load dataset and clean column names\n",
    "data = pd.read_csv(\"Rainfall.csv\").rename(columns=lambda x: x.strip()).drop(columns=[\"day\"])\n",
    "\n",
    "# Handle missing values\n",
    "data.fillna({\n",
    "    \"winddirection\": data[\"winddirection\"].mode()[0],\n",
    "    \"windspeed\": data[\"windspeed\"].median()\n",
    "}, inplace=True)\n",
    "\n",
    "# Encode target variable\n",
    "data[\"rainfall\"] = data[\"rainfall\"].map({\"yes\": 1, \"no\": 0})\n",
    "\n",
    "# Drop highly correlated or unnecessary columns\n",
    "data.drop(columns=['maxtemp', 'temparature', 'mintemp'], inplace=True)\n",
    "\n",
    "# Display data info\n",
    "print(\"Data Info:\")\n",
    "data.info()\n"
   ]
  },
  {
   "cell_type": "markdown",
   "metadata": {},
   "source": [
    "3. Balance Classes"
   ]
  },
  {
   "cell_type": "code",
   "execution_count": 3,
   "metadata": {},
   "outputs": [
    {
     "name": "stdout",
     "output_type": "stream",
     "text": [
      "Majority class count: 249\n",
      "Minority class count: 117\n",
      "Balanced class distribution:\n",
      "rainfall\n",
      "1    117\n",
      "0    117\n",
      "Name: count, dtype: int64\n"
     ]
    }
   ],
   "source": [
    "# Separate majority and minority classes\n",
    "df_majority = data[data[\"rainfall\"] == 1]\n",
    "df_minority = data[data[\"rainfall\"] == 0]\n",
    "\n",
    "print(f\"Majority class count: {df_majority.shape[0]}\")\n",
    "print(f\"Minority class count: {df_minority.shape[0]}\")\n",
    "\n",
    "# Downsample majority class\n",
    "df_majority_downsampled = resample(\n",
    "    df_majority,\n",
    "    replace=False,\n",
    "    n_samples=len(df_minority),\n",
    "    random_state=42\n",
    ")\n",
    "\n",
    "# Combine minority class with downsampled majority class\n",
    "df_balanced = pd.concat([df_majority_downsampled, df_minority]).sample(frac=1, random_state=42)\n",
    "\n",
    "print(\"Balanced class distribution:\")\n",
    "print(df_balanced[\"rainfall\"].value_counts())\n"
   ]
  },
  {
   "cell_type": "markdown",
   "metadata": {},
   "source": [
    "4. Feature Selection and Split"
   ]
  },
  {
   "cell_type": "code",
   "execution_count": 4,
   "metadata": {},
   "outputs": [],
   "source": [
    "# Define features and target\n",
    "X = df_balanced.drop(\"rainfall\", axis=1)\n",
    "y = df_balanced[\"rainfall\"]\n",
    "\n",
    "# Split into training and testing sets\n",
    "X_train, X_test, y_train, y_test = train_test_split(\n",
    "    X, y, test_size=0.2, random_state=42\n",
    ")\n"
   ]
  },
  {
   "cell_type": "markdown",
   "metadata": {},
   "source": [
    "5. Model Training and Hyperparameter Tuning"
   ]
  },
  {
   "cell_type": "code",
   "execution_count": 5,
   "metadata": {},
   "outputs": [
    {
     "name": "stdout",
     "output_type": "stream",
     "text": [
      "Fitting 5 folds for each of 216 candidates, totalling 1080 fits\n",
      "Best Parameters: {'max_depth': None, 'max_features': 'sqrt', 'min_samples_leaf': 1, 'min_samples_split': 10, 'n_estimators': 50}\n"
     ]
    }
   ],
   "source": [
    "# Define parameter grid for Random Forest\n",
    "param_grid = {\n",
    "    \"n_estimators\": [50, 100, 200],\n",
    "    \"max_features\": [\"sqrt\", \"log2\"],\n",
    "    \"max_depth\": [None, 10, 20, 30],\n",
    "    \"min_samples_split\": [2, 5, 10],\n",
    "    \"min_samples_leaf\": [1, 2, 4]\n",
    "}\n",
    "\n",
    "# Initialize Random Forest classifier\n",
    "rf = RandomForestClassifier(random_state=42)\n",
    "\n",
    "# Initialize GridSearchCV\n",
    "grid = GridSearchCV(rf, param_grid, cv=5, n_jobs=-1, verbose=1)\n",
    "\n",
    "# Fit the model\n",
    "grid.fit(X_train, y_train)\n",
    "\n",
    "# Best estimator\n",
    "best_rf = grid.best_estimator_\n",
    "print(\"Best Parameters:\", grid.best_params_)\n"
   ]
  },
  {
   "cell_type": "markdown",
   "metadata": {},
   "source": [
    "6. Model Evaluation"
   ]
  },
  {
   "cell_type": "code",
   "execution_count": 6,
   "metadata": {},
   "outputs": [
    {
     "name": "stdout",
     "output_type": "stream",
     "text": [
      "Cross-validation Mean Score: 0.8189\n",
      "Test Set Accuracy: 0.7446808510638298\n",
      "Confusion Matrix:\n",
      " [[17  7]\n",
      " [ 5 18]]\n",
      "Classification Report:\n",
      "               precision    recall  f1-score   support\n",
      "\n",
      "           0       0.77      0.71      0.74        24\n",
      "           1       0.72      0.78      0.75        23\n",
      "\n",
      "    accuracy                           0.74        47\n",
      "   macro avg       0.75      0.75      0.74        47\n",
      "weighted avg       0.75      0.74      0.74        47\n",
      "\n"
     ]
    }
   ],
   "source": [
    "# Cross-validation scores\n",
    "cv_scores = cross_val_score(best_rf, X_train, y_train, cv=5)\n",
    "print(f\"Cross-validation Mean Score: {cv_scores.mean():.4f}\")\n",
    "\n",
    "# Predict on test set\n",
    "y_pred = best_rf.predict(X_test)\n",
    "\n",
    "# Evaluation metrics\n",
    "print(\"Test Set Accuracy:\", accuracy_score(y_test, y_pred))\n",
    "print(\"Confusion Matrix:\\n\", confusion_matrix(y_test, y_pred))\n",
    "print(\"Classification Report:\\n\", classification_report(y_test, y_pred))\n"
   ]
  },
  {
   "cell_type": "markdown",
   "metadata": {},
   "source": [
    "7. Model Saving"
   ]
  },
  {
   "cell_type": "code",
   "execution_count": 7,
   "metadata": {},
   "outputs": [],
   "source": [
    "# Save the trained model and feature names\n",
    "model_data = {\"model\": best_rf, \"features\": X.columns.tolist()}\n",
    "with open(\"rainfall_prediction_model.pkl\", \"wb\") as f:\n",
    "    pickle.dump(model_data, f)\n"
   ]
  },
  {
   "cell_type": "markdown",
   "metadata": {},
   "source": [
    "8. Model Loading and Prediction"
   ]
  },
  {
   "cell_type": "code",
   "execution_count": 8,
   "metadata": {},
   "outputs": [
    {
     "name": "stdout",
     "output_type": "stream",
     "text": [
      "Prediction: Rainfall\n"
     ]
    }
   ],
   "source": [
    "# Load the trained model and feature names\n",
    "with open(\"rainfall_prediction_model.pkl\", \"rb\") as f:\n",
    "    model_data = pickle.load(f)\n",
    "model, feature_names = model_data[\"model\"], model_data[\"features\"]\n",
    "\n",
    "# Prepare input data for prediction\n",
    "input_data = pd.DataFrame([(\n",
    "    1015.9, 19.9, 95, 81, 0.0, 40.0, 13.7\n",
    ")], columns=feature_names)\n",
    "\n",
    "# Make prediction\n",
    "prediction = model.predict(input_data)[0]\n",
    "print(\"Prediction:\", \"Rainfall\" if prediction == 1 else \"No Rainfall\")\n"
   ]
  }
 ],
 "metadata": {
  "colab": {
   "provenance": []
  },
  "kernelspec": {
   "display_name": ".venv",
   "language": "python",
   "name": "python3"
  },
  "language_info": {
   "codemirror_mode": {
    "name": "ipython",
    "version": 3
   },
   "file_extension": ".py",
   "mimetype": "text/x-python",
   "name": "python",
   "nbconvert_exporter": "python",
   "pygments_lexer": "ipython3",
   "version": "3.12.6"
  }
 },
 "nbformat": 4,
 "nbformat_minor": 0
}
